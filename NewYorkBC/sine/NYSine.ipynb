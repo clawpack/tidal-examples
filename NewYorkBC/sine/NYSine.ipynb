{
 "cells": [
  {
   "cell_type": "markdown",
   "metadata": {},
   "source": [
    "# New York Tides with Sine Boundary Condition\n",
    "\n",
    "First run the GeoClaw code and then use this notebook to examine the gauge results.\n",
    "\n",
    "In this example, we set tidal signal to be $\\sin(2\\pi t / T)$ on the right boundary, a pure sine wave with amplitude 1 and period $T = 12\\times 3600 = $ 12 hours, as shown by the dashed line in the gauge time series plots below.  "
   ]
  },
  {
   "cell_type": "code",
   "execution_count": null,
   "metadata": {},
   "outputs": [],
   "source": [
    "%matplotlib inline"
   ]
  },
  {
   "cell_type": "code",
   "execution_count": null,
   "metadata": {},
   "outputs": [],
   "source": [
    "from pylab import *"
   ]
  },
  {
   "cell_type": "code",
   "execution_count": null,
   "metadata": {},
   "outputs": [],
   "source": [
    "from IPython.display import Image\n",
    "import clawpack.pyclaw.gauges as gauges"
   ]
  },
  {
   "cell_type": "code",
   "execution_count": null,
   "metadata": {},
   "outputs": [],
   "source": [
    "figure(400, figsize=(13,6))\n",
    "clf()\n",
    "colors = ['k','b','r','g']\n",
    "\n",
    "outdir = '_output'\n",
    "\n",
    "for k,gaugeno in enumerate([0,1,5186,9050]):\n",
    "    gauge = gauges.GaugeSolution(gaugeno, outdir)\n",
    "    t = gauge.t / 3600.   # convert to hours\n",
    "    q = gauge.q\n",
    "    eta = q[3,:]\n",
    "    plot(t, eta, colors[k], label='Gauge %s' % gaugeno)\n",
    "        \n",
    "    \n",
    "    # determine amplification and time shift:\n",
    "    m2 = int(floor(0.75*len(eta)))\n",
    "    eta2 = eta[m2:]  # last part of eta signal\n",
    "    etamax2 = eta2.max()\n",
    "    etamin2 = eta2.min()\n",
    "    t2 = t[m2:]\n",
    "    jtmax = argmax(eta2) \n",
    "    tshift = t2[jtmax] *3600.\n",
    "    \n",
    "    print('At gauge %i, etamin2 = %.3f, etamax2 = %.3f at tshift = %.1f s' \\\n",
    "            % (gaugeno,etamin2,etamax2,tshift))\n",
    "    \n",
    "#Sine Wave    \n",
    "tperiod = 12\n",
    "eta = 1.*sin(2*pi*t/tperiod)\n",
    "plot(t, eta, 'k--', label='Sine')\n",
    "\n",
    "legend(loc='upper right')\n",
    "xlabel('hours')\n",
    "ylabel('Surface relative to MTL (m)')\n",
    "grid(True)\n",
    "title('Sine wave BC and resulting GeoClaw gauge results');\n",
    "\n",
    "xticks(arange(0,t[-1]+0.1,12))\n",
    "xlim(0,60)\n",
    "\n",
    "if 1:\n",
    "    fname = 'GaugeComparison.png'\n",
    "    savefig(fname, bbox_inches='tight')\n",
    "    print('Created %s' % fname)"
   ]
  }
 ],
 "metadata": {
  "kernelspec": {
   "display_name": "Python 3",
   "language": "python",
   "name": "python3"
  },
  "language_info": {
   "codemirror_mode": {
    "name": "ipython",
    "version": 3
   },
   "file_extension": ".py",
   "mimetype": "text/x-python",
   "name": "python",
   "nbconvert_exporter": "python",
   "pygments_lexer": "ipython3",
   "version": "3.8.5"
  }
 },
 "nbformat": 4,
 "nbformat_minor": 4
}
