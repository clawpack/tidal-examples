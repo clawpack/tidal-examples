{
 "cells": [
  {
   "cell_type": "markdown",
   "id": "incident-incident",
   "metadata": {},
   "source": [
    "# Tidetools Module Functionalities\n",
    "\n",
    "- In these examples, methods used to predict tide are adapated from Pytides\n",
    "- This implementation will only work for known NOAA gauge stations\n",
    "- Harmonic Constituents data is fetched from NOAA. \n",
    "\n",
    "Adapted by @rjleveque from notebook of @socoyjonathan to test local pytides and new tidetools.py."
   ]
  },
  {
   "cell_type": "markdown",
   "id": "renewable-penetration",
   "metadata": {},
   "source": [
    "## Tide Prediction Module Functions"
   ]
  },
  {
   "cell_type": "markdown",
   "id": "domestic-escape",
   "metadata": {},
   "source": [
    " - <b>fetch_harcon</b> - Fetches harmonic constituents for CO-OPS station.\n",
    " - <b>make_pytides_model</b> - Fetches harmonic constituents for station\n",
    " - <code><b>fetch_noaa_tide_data()</b></code> - retrieves datetimes, water levels and tide predictions at given NOAA tide station from NOAA's API\n",
    " - <b>fetch_datums</b> - Fetch datums for CO-OPS station.\n",
    " - <code><b>predict_tide()</b></code> - predicts tide for desired NOAA station given station ID, start date and end date for prediction \n",
    " - <b>datetimes</b> - prepares a collection of datetimes from beginning to end dates as needed\n",
    " - <code><b>detide()</b></code> - detides observed water levels with predicted tide\n",
    " - <code><b>surge()</b></code> - predicts surge at NOAA gauge station provided station ID, start date, end date, and landfall date! "
   ]
  },
  {
   "cell_type": "code",
   "execution_count": null,
   "id": "oriental-psychology",
   "metadata": {},
   "outputs": [],
   "source": [
    "from clawpack.geoclaw import tidetools\n",
    "import matplotlib.pyplot as plt\n",
    "import datetime"
   ]
  },
  {
   "cell_type": "markdown",
   "id": "60cdf85c",
   "metadata": {},
   "source": [
    "*******************************************************************************************************************"
   ]
  },
  {
   "cell_type": "markdown",
   "id": "a103cb9a",
   "metadata": {},
   "source": [
    "# Example of Tide Prediction For One Date Instance"
   ]
  },
  {
   "cell_type": "markdown",
   "id": "julian-thesaurus",
   "metadata": {},
   "source": [
    "### ****  Station Information ****"
   ]
  },
  {
   "cell_type": "markdown",
   "id": "after-minister",
   "metadata": {},
   "source": [
    "Locate NOAA station ID.  NOAA gauge stations home: https://tidesandcurrents.noaa.gov/ <br>\n",
    "Fill in station ID, reference datum and date instance for tide prediction!"
   ]
  },
  {
   "cell_type": "code",
   "execution_count": null,
   "id": "sought-buyer",
   "metadata": {},
   "outputs": [],
   "source": [
    "#Station Information\n",
    "station_id = '8761724'\n",
    "datum = 'MTL'\n",
    "\n",
    "#Date of prediction (YEAR, MTH, DAY, HR)\n",
    "prediction_date = datetime.datetime(2005, 8, 29, 11)"
   ]
  },
  {
   "cell_type": "markdown",
   "id": "reported-mustang",
   "metadata": {},
   "source": [
    "### Tide Prediction"
   ]
  },
  {
   "cell_type": "markdown",
   "id": "acceptable-chest",
   "metadata": {},
   "source": [
    "Prediction of tide at specified location (station ID) and specified time (GMT) implemented below by calling <code><b>predict_tide()</b></code> method with the following arguments: <b> station_id, beg_prediction_date, end_prediction_date</b>. Note: datum, time zone and units arguments are optional\n",
    "\n",
    "<br> \n",
    "\n",
    "To predict tide at an instant, set <b>beg_prediction_date</b> and <b>end_prediction_date</b> in <code><b>predict_tide()</b></code> method to the same date!"
   ]
  },
  {
   "cell_type": "code",
   "execution_count": null,
   "id": "complex-essay",
   "metadata": {},
   "outputs": [],
   "source": [
    "#NOAA Data Scraping Implementation      \n",
    "height = tidetools.predict_tide(station_id, prediction_date, prediction_date, datum)\n",
    "times = tidetools.datetimes(prediction_date, prediction_date) # in meters\n",
    "print(height[0], \"meters\")"
   ]
  },
  {
   "cell_type": "markdown",
   "id": "allied-thompson",
   "metadata": {},
   "source": [
    "*******************************************************************************************************************"
   ]
  },
  {
   "cell_type": "markdown",
   "id": "infectious-defensive",
   "metadata": {},
   "source": [
    "# Example of Tide Prediction In A Date Interval "
   ]
  },
  {
   "cell_type": "markdown",
   "id": "bacterial-chase",
   "metadata": {},
   "source": [
    "###   Station Information "
   ]
  },
  {
   "cell_type": "markdown",
   "id": "efficient-marathon",
   "metadata": {},
   "source": [
    "Fill in station ID, a beginning date and an end date for tide prediction below"
   ]
  },
  {
   "cell_type": "code",
   "execution_count": null,
   "id": "exciting-andrews",
   "metadata": {},
   "outputs": [],
   "source": [
    "#Station Information\n",
    "station_id = '8761724'\n",
    "datum = 'MTL'\n",
    "\n",
    "#Beginning and End Dates \n",
    "beg_date = datetime.datetime(2005, 8, 26, hour=0)\n",
    "end_date = datetime.datetime(2005, 8, 31, hour=0)\n",
    "\n",
    "#Predict tide with arguments set as: (station_id, beg_pred_date, end_pred_date)\n",
    "predicted_tide = tidetools.predict_tide(station_id, beg_date, end_date, datum)"
   ]
  },
  {
   "cell_type": "markdown",
   "id": "rapid-russell",
   "metadata": {},
   "source": [
    "### Tide Predictions\n",
    "Plot results in a time series plot"
   ]
  },
  {
   "cell_type": "code",
   "execution_count": null,
   "id": "unauthorized-marsh",
   "metadata": {},
   "outputs": [],
   "source": [
    "#Method datetimes() makes a range of datetimes given args: (beg_pred_date, end_pred_date)\n",
    "times = tidetools.datetimes(beg_date, end_date)\n",
    "\n",
    "plt.figure(figsize=(20,10))\n",
    "plt.plot(times, predicted_tide, \"-\", label=\"Tide Prediction\")\n",
    "plt.xlabel('Hours since ' + str(beg_date) + ' (GMT)')\n",
    "plt.ylabel('Meters'), plt.margins(x=0), plt.legend(loc = 'best')\n",
    "plt.title('Pytide Tide Prediction for Station {}'.format(station_id))\n",
    "plt.show()"
   ]
  },
  {
   "cell_type": "markdown",
   "id": "macro-fossil",
   "metadata": {},
   "source": [
    "*******************************************************************************************************************"
   ]
  },
  {
   "cell_type": "markdown",
   "id": "understanding-occurrence",
   "metadata": {},
   "source": [
    "# Example Comparing Pytides vs NOAA Tide Prediction In A Date Interval "
   ]
  },
  {
   "cell_type": "markdown",
   "id": "22f2867f",
   "metadata": {},
   "source": [
    "In this example, we implement the Pytides submodule to predict the tide from <b>Hurricane Katrina</b> in 2005 on Grand Isle, LA (NOAA gauge station: 8761724) between start date, 08-26-2005, and end date, 08-31-2005. NOAA's predicted tide and observed water levels are also displayed for comparison."
   ]
  },
  {
   "cell_type": "code",
   "execution_count": null,
   "id": "heated-glossary",
   "metadata": {},
   "outputs": [],
   "source": [
    "#Station Information\n",
    "station_id = '8761724'\n",
    "datum = 'MTL'\n",
    "\n",
    "#Beginning and End Dates \n",
    "beg_date = datetime.datetime(2005, 8, 26)\n",
    "end_date = datetime.datetime(2005, 8, 31)\n",
    "\n",
    "#Predict Tide \n",
    "predicted_tide = tidetools.predict_tide(station_id, beg_date, end_date, datum)"
   ]
  },
  {
   "cell_type": "markdown",
   "id": "brief-madonna",
   "metadata": {},
   "source": [
    "- Calling function <code><b>fetch_noaa_tide_data()</b></code> with arguments set as <b>(station_id, beg_prediction_date, end_prediction_date)</b> retrieves datetimes, water levels and tide predictions for the specified NOAA station in the date interval provided from NOAA's API\n",
    "- Data is fetched in <b>Metric</b> units, <b>GMT</b> timezone, <b>MTL</b> datum and  <b>6 min</b> intervals. These arguments are optional in <code><b>fetch_noaa_tide_data()</b></code>."
   ]
  },
  {
   "cell_type": "code",
   "execution_count": null,
   "id": "minimal-dancing",
   "metadata": {},
   "outputs": [],
   "source": [
    "#Retrieve NOAA Tide Data\n",
    "times, NOAA_observed_water_lvl, NOAA_predicted_tide = \\\n",
    "        tidetools.fetch_noaa_tide_data(station_id, beg_date, end_date)"
   ]
  },
  {
   "cell_type": "code",
   "execution_count": null,
   "id": "verified-minimum",
   "metadata": {},
   "outputs": [],
   "source": [
    "#Plot Comparisons\n",
    "plt.figure(figsize=(20,10))\n",
    "plt.plot(times, predicted_tide, \"-\", label=\"Pytides Prediction\")\n",
    "plt.plot(times, NOAA_predicted_tide, \"-\", label=\"NOAA Tide Prediction\")\n",
    "plt.plot(times, NOAA_observed_water_lvl, \"-\", label=\"NOAA Water Level Observation\")\n",
    "plt.xlabel('Hours since ' + str(beg_date) + ' (GMT)')\n",
    "plt.ylabel('Metres'), plt.margins(x=0), plt.legend(loc = 'best')\n",
    "plt.title('Comparison of Pytides Tide Prediction vs NOAA Prediction for Station {}'.format(station_id))\n",
    "plt.show()"
   ]
  },
  {
   "cell_type": "markdown",
   "id": "acquired-attitude",
   "metadata": {},
   "source": [
    "*******************************************************************************************************************"
   ]
  },
  {
   "cell_type": "markdown",
   "id": "loaded-porter",
   "metadata": {},
   "source": [
    "# Example Detiding and Capturing A Surge for a Gauge Station "
   ]
  },
  {
   "cell_type": "markdown",
   "id": "61648635",
   "metadata": {},
   "source": [
    "In this example, we detide the observed water levels for <b>Hurricane Katrina</b> in 2005 on Grand Isle, LA (NOAA gauge station: 8761724) between start date, 08-26-2005, and end date, 08-31-2005, using Pytides predicted tide. With this method, one may compare the storm surge from Pytides prediction with GeoClaw simulation results as shown in the next example."
   ]
  },
  {
   "cell_type": "markdown",
   "id": "golden-equivalent",
   "metadata": {},
   "source": [
    "- Calling <code><b>predict_tide()</b></code> method with arguments set as: <b>(station_id, beg_prediction_date, end_prediction_date)</b> outputs predicted tide\n",
    "- Calling <code><b>fetch_noaa_tide_data()</b></code> with arguments set as <b>(station_id, beg_prediction_date, end_prediction_date)</b> retrieves datetimes, water levels and tide predictions from NOAA\n",
    "- Calling <code><b>detide()</b></code> method with arguments set as: <b>(NOAA observed water level, predicted tide)</b> will output detided water level. "
   ]
  },
  {
   "cell_type": "code",
   "execution_count": null,
   "id": "perceived-variety",
   "metadata": {},
   "outputs": [],
   "source": [
    "#Station Information\n",
    "station_id = '8761724'\n",
    "datum = 'MTL'\n",
    "\n",
    "#Beginning and End Dates \n",
    "beg_date = datetime.datetime(2005, 8, 26)\n",
    "end_date = datetime.datetime(2005, 8, 31)\n",
    "\n",
    "predicted_tide = tidetools.predict_tide(station_id, beg_date, end_date)\n",
    "times, NOAA_observed_water_lvl, NOAA_predicted_tide = \\\n",
    "       tidetools.fetch_noaa_tide_data(station_id, beg_date, end_date, datum)\n",
    "\n",
    "surge = tidetools.detide(NOAA_observed_water_lvl, predicted_tide)\n",
    "\n",
    "#Plot Comparisons\n",
    "plt.figure(figsize=(20,10))\n",
    "plt.plot(times, surge, \"-\", label=\"Pytides Storm Surge Prediction\")\n",
    "plt.xlabel('Hours since ' + str(beg_date) + ' (GMT)')\n",
    "plt.ylabel('Metres'), plt.margins(x=0), plt.legend(loc = 'best')\n",
    "plt.title('Detided Water Level for Station {}'.format(station_id))\n",
    "plt.show()"
   ]
  },
  {
   "cell_type": "markdown",
   "id": "continued-fruit",
   "metadata": {},
   "source": [
    "*******************************************************************************************************************"
   ]
  },
  {
   "cell_type": "markdown",
   "id": "useful-invasion",
   "metadata": {},
   "source": [
    "# Example Implementation of Pytides Tide Prediction on Clawpack"
   ]
  },
  {
   "cell_type": "markdown",
   "id": "completed-awareness",
   "metadata": {},
   "source": [
    "- Code below may be utilized to compare NOAA guage results with Clawpack storm surge simulations. \n",
    "- Code below works best if placed in <b>gauge_afteraxes( )</b> in <b>setplot.py</b> for comparison.\n",
    "- Calling <code><b>surge()</b></code> method with arguments set as: <b>(station_id, beginning_date, end_date, landfall_date)</b> will output predicted storm surge from NOAA observed water levels minus Pytides submodule predicted tide."
   ]
  },
  {
   "cell_type": "code",
   "execution_count": null,
   "id": "classified-speaker",
   "metadata": {},
   "outputs": [],
   "source": [
    "#Station Information\n",
    "station_id = '8761724'\n",
    "\n",
    "#Beginning, End, Landfall Dates\n",
    "beg_date = datetime.datetime(2005, 8, 26)\n",
    "end_date = datetime.datetime(2005, 8, 31)\n",
    "landfall_date = datetime.datetime(2005, 8, 29, 11, 10)\n",
    "\n",
    "# Surge Prediction\n",
    "times, surge = tidetools.surge(station_id, beg_date, end_date, landfall_date)\n",
    "plt.plot(times, surge, color=\"b\", label=\"Pytides Prediction\")"
   ]
  },
  {
   "cell_type": "markdown",
   "id": "growing-labor",
   "metadata": {},
   "source": [
    "*******************************************************************************************************************"
   ]
  },
  {
   "cell_type": "markdown",
   "id": "polished-sector",
   "metadata": {},
   "source": [
    "# Example Iterating Through A Library Of Stations And Date Intervals"
   ]
  },
  {
   "cell_type": "markdown",
   "id": "552f02ab",
   "metadata": {},
   "source": [
    "In this example, we provide tide and storm surge predictions for five different storm events utilizing Pytides submodule and data from NOAA. \n",
    "\n",
    "1) First storm event considered is [Hurricane Katrina](https://www.nhc.noaa.gov/data/tcr/AL122005_Katrina.pdf) on NOAA station [Grand Isle, LA](https://tidesandcurrents.noaa.gov/stationhome.html?id=8761724) with a storm surge within the given dates. \n",
    "\n",
    "2) Second storm event considered is [Hurricane Michael](https://www.nhc.noaa.gov/data/tcr/AL142018_Michael.pdf) on NOAA station [Pilots Station East, SW Pass, LA](https://tidesandcurrents.noaa.gov/stationhome.html?id=8760922) with a storm surge within the given dates. \n",
    "\n",
    "3) Third storm event considered is [Hurricane Matthew](https://www.nhc.noaa.gov/data/tcr/AL142016_Matthew.pdf) on NOAA station [Wilmington, NC](https://tidesandcurrents.noaa.gov/stationhome.html?id=8658120) with a storm surge within the given dates. \n",
    "\n",
    "5) Fourth storm event considered is [Hurricane Irma](https://www.nhc.noaa.gov/data/tcr/AL112017_Irma.pdf) on NOAA station [Vaca Key, Florida Bay, FL](https://tidesandcurrents.noaa.gov/stationhome.html?id=8723970) with a storm surge within the given dates. \n",
    "\n",
    "4) Fifth storm event considered is [Hurricane Dorian](https://www.nhc.noaa.gov/data/tcr/AL052019_Dorian.pdf) on NOAA station [Trident Pier, Port Canaveral, FL](https://tidesandcurrents.noaa.gov/stationhome.html?id=8721604) with a storm surge within the given dates. "
   ]
  },
  {
   "cell_type": "code",
   "execution_count": null,
   "id": "correct-twist",
   "metadata": {
    "scrolled": false
   },
   "outputs": [],
   "source": [
    "station_dict = {'8761724': ('Grand Isle, LA', (2005, 8, 26), (2005, 8, 31), (2005, 8, 29, 11, 10)), #katrina\n",
    "                '8760922': ('Pilots Station East, SW Pass, LA', (2005, 8, 26), (2005, 8, 31), (2005, 8, 29, 11)), #michael\n",
    "                '8658120': ('Wilmington, NC', (2016, 10, 6, 12), (2016, 10, 9, 12), (2016, 10, 8, 12)), #matthew\n",
    "                '8723970': ('Vaca Key, Florida Bay, FL', (2017, 9, 6, 13), (2017, 9, 12, 13), (2017, 9, 10, 13)), #irma\n",
    "                '8721604': ('Trident Pier, Port Canaveral, FL', (2019, 8, 24), (2019, 9, 9), (2019, 9, 4, 12)) #dorian\n",
    "               }\n",
    "\n",
    "for (key, value) in station_dict.items():\n",
    "    station_id = key\n",
    "    station_name = value[0]\n",
    "    beg_date = datetime.datetime(*value[1])\n",
    "    end_date = datetime.datetime(*value[2])\n",
    "    landfall_date = datetime.datetime(*value[3])\n",
    "    \n",
    "    #NOAA Data Scraping Implementation\n",
    "    predicted_tide = tidetools.predict_tide(station_id, beg_date, end_date) \n",
    "    \n",
    "    times, NOAA_observed_water_lvl, NOAA_predicted_tide = \\\n",
    "           tidetools.fetch_noaa_tide_data(station_id, beg_date, end_date)\n",
    "\n",
    "    #Detide Water Level\n",
    "    surge = tidetools.detide(NOAA_observed_water_lvl, predicted_tide)\n",
    "    NOAA_surge = tidetools.detide(NOAA_observed_water_lvl, NOAA_predicted_tide)\n",
    "    \n",
    "    #Plot Comparisons\n",
    "    plt.figure(figsize=(20,10))\n",
    "    plt.plot(times, predicted_tide, \"-\", label=\"Pytides Tide Prediction\")\n",
    "    plt.plot(times, NOAA_predicted_tide, \"-\", label=\"NOAA Tide Prediction\")\n",
    "    plt.plot(times, NOAA_observed_water_lvl, \"-\", label=\"NOAA Water Level Observation\")\n",
    "    plt.xlabel('Hours since ' + str(beg_date) + ' (GMT)')\n",
    "    plt.ylabel('Metres'), plt.margins(x=0), plt.legend(loc = 'best')\n",
    "    plt.title('Comparison of Pytides Prediction vs NOAA Prediction for Station {}, {}'\\\n",
    "              .format(station_id, station_name))\n",
    "    plt.show()\n",
    "    \n",
    "    #Detided Water Level Comparison\n",
    "    plt.figure(figsize=(20,10))\n",
    "    plt.plot(times, surge, \"-\", label=\"Pytides Detided Prediction\")\n",
    "    plt.plot(times, NOAA_surge, \"-\", label=\"NOAA Detided Prediction\")\n",
    "    plt.xlabel('Hours since ' + str(beg_date) + ' (GMT)')\n",
    "    plt.ylabel('Metres'), plt.margins(x=0), plt.legend(loc = 'best')\n",
    "    plt.title('Detided Water Level Comparison of Pytides Prediction vs NOAA Prediction for Station {}, {}'\\\n",
    "              .format(station_id, station_name))\n",
    "    plt.show()"
   ]
  },
  {
   "cell_type": "markdown",
   "id": "91da5eb6",
   "metadata": {},
   "source": [
    "From the example above, one may observe that the NOAA water level observations before the storm surge deviate significantly from both Pytides and NOAA's predicted tide levels. Many factors may contribute to this significant discrepency in observed water levels and predicted tide levels way before the storm surge event. \n",
    "\n",
    "This discrepency may be most likely due to the effects of the storm event already affecting the water levels days prior to the event in the vicinity of the specified location. These effects may include changes in waves and wind setup, ocean and river currents, temperature of the ocean water, barometric pressure, and relative sea level changes during the time interval leading up to the event as presented by [NOAA] (https://www.nhc.noaa.gov/surge/surge_intro.pdf).\n",
    "\n",
    "However, other factor may contribute to this discrepency such as the difference in the actual tide level taking place and predicted tide level. Since a tide is the alternating rise and fall of the oceans with respect to the land, mainly produced by the gravitational attraction of the moon and sun but also due to non-astronomical factors such as the configuration of the coastline, local depth of the water and ocean-floor topography,  the range of the tides, the times of arrival of the tides, and the time interval between high and low water will deviate from the harmonic analysis utilized by Pytides and NOAA as presented by [Paul Schureman](https://tidesandcurrents.noaa.gov/publications/SpecialPubNo98.pdf)."
   ]
  }
 ],
 "metadata": {
  "kernelspec": {
   "display_name": "Python 3",
   "language": "python",
   "name": "python3"
  },
  "language_info": {
   "codemirror_mode": {
    "name": "ipython",
    "version": 3
   },
   "file_extension": ".py",
   "mimetype": "text/x-python",
   "name": "python",
   "nbconvert_exporter": "python",
   "pygments_lexer": "ipython3",
   "version": "3.9.12"
  }
 },
 "nbformat": 4,
 "nbformat_minor": 5
}
